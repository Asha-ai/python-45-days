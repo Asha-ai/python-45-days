{
  "nbformat": 4,
  "nbformat_minor": 0,
  "metadata": {
    "colab": {
      "provenance": []
    },
    "kernelspec": {
      "name": "python3",
      "display_name": "Python 3"
    },
    "language_info": {
      "name": "python"
    }
  },
  "cells": [
    {
      "cell_type": "code",
      "source": [
        "# Print even or odd\n",
        "l = [\"even\" if y%2==0 else \"odd\" for y in range(5)]\n",
        "l"
      ],
      "metadata": {
        "id": "xH6kofsYAc8f",
        "colab": {
          "base_uri": "https://localhost:8080/"
        },
        "outputId": "17073992-3bce-40aa-be8c-5fdb9a51e1b5"
      },
      "execution_count": null,
      "outputs": [
        {
          "output_type": "execute_result",
          "data": {
            "text/plain": [
              "['even', 'odd', 'even', 'odd', 'even']"
            ]
          },
          "metadata": {},
          "execution_count": 1
        }
      ]
    },
    {
      "cell_type": "code",
      "source": [
        "# Reverse of words\n",
        "k = (\"Hello\",\"how\",'are','you')\n",
        "l = [k[::-1] for k in k]\n",
        "l"
      ],
      "metadata": {
        "id": "IgKpE9Iuhxm7",
        "colab": {
          "base_uri": "https://localhost:8080/"
        },
        "outputId": "461e31a1-9340-47cc-fa39-f8ec6b714fd2"
      },
      "execution_count": null,
      "outputs": [
        {
          "output_type": "execute_result",
          "data": {
            "text/plain": [
              "['olleH', 'woh', 'era', 'uoy']"
            ]
          },
          "metadata": {},
          "execution_count": 4
        }
      ]
    },
    {
      "cell_type": "code",
      "source": [
        "# print 0 to 100 numbers divisible by 2 and 5\n",
        "y = [k for k in range(100)if k%2==0 if k%5==0]\n",
        "y"
      ],
      "metadata": {
        "id": "Fe3oj19ehxrX",
        "colab": {
          "base_uri": "https://localhost:8080/"
        },
        "outputId": "a30451ab-a90d-47c9-9c58-759fe7402e55"
      },
      "execution_count": null,
      "outputs": [
        {
          "output_type": "execute_result",
          "data": {
            "text/plain": [
              "[0, 10, 20, 30, 40, 50, 60, 70, 80, 90]"
            ]
          },
          "metadata": {},
          "execution_count": 5
        }
      ]
    },
    {
      "cell_type": "code",
      "source": [
        "# Transpose of a matrix\n",
        "m = [[1,2],[3,4],[5,6]]\n",
        "t = [[k[i] for k in m]for i in range(2)]\n",
        "t"
      ],
      "metadata": {
        "id": "uzPiHav6huml",
        "colab": {
          "base_uri": "https://localhost:8080/"
        },
        "outputId": "02d77496-922f-46a5-b35d-7b592799d5d1"
      },
      "execution_count": null,
      "outputs": [
        {
          "output_type": "execute_result",
          "data": {
            "text/plain": [
              "[[1, 3, 5], [2, 4, 6]]"
            ]
          },
          "metadata": {},
          "execution_count": 2
        }
      ]
    },
    {
      "cell_type": "markdown",
      "source": [
        "\n",
        "\n",
        "# Python Multiplication table\n"
      ],
      "metadata": {
        "id": "OsPdRSxxWReM"
      }
    },
    {
      "cell_type": "code",
      "source": [
        "n = int(input(\"Enter table:\"))\n",
        "for i in range(1,11):\n",
        "  print(n,\"x\",i,\"=\",n*i)"
      ],
      "metadata": {
        "id": "M_MU7c4ghujS",
        "colab": {
          "base_uri": "https://localhost:8080/"
        },
        "outputId": "37c853d3-1703-483a-d8a9-d5ba6e34325f"
      },
      "execution_count": null,
      "outputs": [
        {
          "output_type": "stream",
          "name": "stdout",
          "text": [
            "Enter table:3\n",
            "3 x 1 = 3\n",
            "3 x 2 = 6\n",
            "3 x 3 = 9\n",
            "3 x 4 = 12\n",
            "3 x 5 = 15\n",
            "3 x 6 = 18\n",
            "3 x 7 = 21\n",
            "3 x 8 = 24\n",
            "3 x 9 = 27\n",
            "3 x 10 = 30\n"
          ]
        }
      ]
    },
    {
      "cell_type": "code",
      "source": [
        "for i in range(6):\n",
        "  for j in range(1,i+1):\n",
        "    print('*',end = ' ')\n",
        "  print(\" \")  "
      ],
      "metadata": {
        "id": "nrgeAnJUqKH_",
        "colab": {
          "base_uri": "https://localhost:8080/"
        },
        "outputId": "f997d1eb-7c1d-4c32-e380-d5bc52810197"
      },
      "execution_count": null,
      "outputs": [
        {
          "output_type": "stream",
          "name": "stdout",
          "text": [
            " \n",
            "*  \n",
            "* *  \n",
            "* * *  \n",
            "* * * *  \n",
            "* * * * *  \n"
          ]
        }
      ]
    },
    {
      "cell_type": "code",
      "source": [
        "# print -1 if all list elements\n",
        "n = [i-1 for i in range(2,12)]\n",
        "n"
      ],
      "metadata": {
        "id": "l39dW4XSWHmc",
        "colab": {
          "base_uri": "https://localhost:8080/"
        },
        "outputId": "8904d64b-a026-473b-8ace-6499a037cd70"
      },
      "execution_count": null,
      "outputs": [
        {
          "output_type": "execute_result",
          "data": {
            "text/plain": [
              "[1, 2, 3, 4, 5, 6, 7, 8, 9, 10]"
            ]
          },
          "metadata": {},
          "execution_count": 5
        }
      ]
    },
    {
      "cell_type": "code",
      "source": [
        "# sum \n",
        "l = [2,3,4,5]\n",
        "s = 0\n",
        "for i in l:\n",
        "  s = s+i\n",
        "print(s)  \n"
      ],
      "metadata": {
        "id": "uAV0UIr_qKMG",
        "colab": {
          "base_uri": "https://localhost:8080/"
        },
        "outputId": "5379d8ec-bf96-4ed3-8d29-28446a7fc9e1"
      },
      "execution_count": null,
      "outputs": [
        {
          "output_type": "stream",
          "name": "stdout",
          "text": [
            "14\n"
          ]
        }
      ]
    },
    {
      "cell_type": "code",
      "source": [
        "# print calender by taking input as year and month\n",
        "import calendar\n",
        "yy = int(input(\"Enter year:\"))\n",
        "mm = int(input(\"Enter month\"))\n",
        "print(calendar.month(yy,mm)) "
      ],
      "metadata": {
        "id": "Jlb9Inw5qKSk",
        "colab": {
          "base_uri": "https://localhost:8080/"
        },
        "outputId": "62aed4c1-3eb2-46bb-b451-7ce74acfd18a"
      },
      "execution_count": null,
      "outputs": [
        {
          "output_type": "stream",
          "name": "stdout",
          "text": [
            "Enter year:2023\n",
            "Enter month1\n",
            "    January 2023\n",
            "Mo Tu We Th Fr Sa Su\n",
            "                   1\n",
            " 2  3  4  5  6  7  8\n",
            " 9 10 11 12 13 14 15\n",
            "16 17 18 19 20 21 22\n",
            "23 24 25 26 27 28 29\n",
            "30 31\n",
            "\n"
          ]
        }
      ]
    },
    {
      "cell_type": "code",
      "source": [
        "# print -2 values of range between 2 to 12\n",
        "n = [i-2 for i in range(2,12)]\n",
        "n"
      ],
      "metadata": {
        "id": "IYZtR9nbWHnv",
        "colab": {
          "base_uri": "https://localhost:8080/"
        },
        "outputId": "eb60b4ab-831f-4ac9-ebae-fd3c4ef4c804"
      },
      "execution_count": null,
      "outputs": [
        {
          "output_type": "execute_result",
          "data": {
            "text/plain": [
              "[0, 1, 2, 3, 4, 5, 6, 7, 8, 9]"
            ]
          },
          "metadata": {},
          "execution_count": 1
        }
      ]
    },
    {
      "cell_type": "code",
      "source": [
        "# square of list of numbers\n",
        "l = [1, 2, 3, 4, 5, 6]\n",
        "for i in range(len(l)):\n",
        "  l[i] = l[i] * l[i]\n",
        "print(\"Update version of List:\", l)"
      ],
      "metadata": {
        "id": "3HE8sAg_FMGi",
        "colab": {
          "base_uri": "https://localhost:8080/"
        },
        "outputId": "77cdc74b-dae0-4ecb-916c-0e469265e478"
      },
      "execution_count": null,
      "outputs": [
        {
          "output_type": "stream",
          "name": "stdout",
          "text": [
            "Update version of List: [1, 4, 9, 16, 25, 36]\n"
          ]
        }
      ]
    },
    {
      "cell_type": "code",
      "source": [
        "List1 = [1,'ABC', 2, 'XYZ', 3, 'abc', 'XYZ']\n",
        "i = 0\n",
        "while i < len(List1):\n",
        "  print(f'{i}: {List1[i]}')\n",
        "  i = i + 1"
      ],
      "metadata": {
        "id": "Z205BnxGFMHv",
        "colab": {
          "base_uri": "https://localhost:8080/"
        },
        "outputId": "c2e10e43-b1e2-43cd-a29a-a16a2757f002"
      },
      "execution_count": null,
      "outputs": [
        {
          "output_type": "stream",
          "name": "stdout",
          "text": [
            "0: 1\n",
            "1: ABC\n",
            "2: 2\n",
            "3: XYZ\n",
            "4: 3\n",
            "5: abc\n",
            "6: XYZ\n"
          ]
        }
      ]
    },
    {
      "cell_type": "code",
      "source": [
        "#Example 11: Looping through a list: using enumerate() method\n",
        "l = [1,'ABC', 2, 'XYZ', 3, 'abc', 'XYZ']\n",
        "for i,r in enumerate(l):\n",
        "  print(i,\":\",r)"
      ],
      "metadata": {
        "id": "HI1ksnpJFMMx",
        "colab": {
          "base_uri": "https://localhost:8080/"
        },
        "outputId": "375036d6-7e54-4c33-c3f4-ad1029e2540b"
      },
      "execution_count": null,
      "outputs": [
        {
          "output_type": "stream",
          "name": "stdout",
          "text": [
            "0 : 1\n",
            "1 : ABC\n",
            "2 : 2\n",
            "3 : XYZ\n",
            "4 : 3\n",
            "5 : abc\n",
            "6 : XYZ\n"
          ]
        }
      ]
    },
    {
      "cell_type": "code",
      "source": [
        "# print even numbers with in range of 20\n",
        "nl = [i for i in range(1,20) if i%2 == 0]\n",
        "nl"
      ],
      "metadata": {
        "id": "ge6uRboGGYr2",
        "colab": {
          "base_uri": "https://localhost:8080/"
        },
        "outputId": "7d84f9e4-3bfc-461b-faa4-5f93add53757"
      },
      "execution_count": null,
      "outputs": [
        {
          "output_type": "execute_result",
          "data": {
            "text/plain": [
              "[2, 4, 6, 8, 10, 12, 14, 16, 18]"
            ]
          },
          "metadata": {},
          "execution_count": 12
        }
      ]
    },
    {
      "cell_type": "code",
      "source": [
        "# print upper case words\n",
        "f = [i.upper()  for i in ['asha','icy']]\n",
        "f"
      ],
      "metadata": {
        "id": "JsxXwtqVGYwg"
      },
      "execution_count": null,
      "outputs": []
    },
    {
      "cell_type": "code",
      "source": [
        "# #Example 16: Nested List comprehensions: For loop equivalent\n",
        "str1 = \"WXYZ\"\n",
        "res_list = []\n",
        "for i in range(len(str1)):\n",
        "  for j in range(i, len(str1)):\n",
        "    res_list.append((str1[i], str1[j]))\n",
        "print(res_list)"
      ],
      "metadata": {
        "id": "NOk-Y1UPH6MW",
        "colab": {
          "base_uri": "https://localhost:8080/"
        },
        "outputId": "31edbbb5-3bdc-40bc-c725-6ab5644a2891"
      },
      "execution_count": null,
      "outputs": [
        {
          "output_type": "stream",
          "name": "stdout",
          "text": [
            "[('W', 'W'), ('W', 'X'), ('W', 'Y'), ('W', 'Z'), ('X', 'X'), ('X', 'Y'), ('X', 'Z'), ('Y', 'Y'), ('Y', 'Z'), ('Z', 'Z')]\n"
          ]
        }
      ]
    },
    {
      "cell_type": "code",
      "source": [
        "# print combination letters in a word\n",
        "l = \"WXYZ\"\n",
        "nl = []\n",
        "for i in range(len(l)):\n",
        "    for j in range(i,len(l)):\n",
        "            nl.append((l[i],l[j]))\n",
        "print(nl)"
      ],
      "metadata": {
        "id": "qRNK46FFH6Nl",
        "colab": {
          "base_uri": "https://localhost:8080/"
        },
        "outputId": "7c27e79a-7f7d-458f-a5c1-3191ed1dd5ac"
      },
      "execution_count": null,
      "outputs": [
        {
          "output_type": "stream",
          "name": "stdout",
          "text": [
            "[('W', 'W'), ('W', 'X'), ('W', 'Y'), ('W', 'Z'), ('X', 'X'), ('X', 'Y'), ('X', 'Z'), ('Y', 'Y'), ('Y', 'Z'), ('Z', 'Z')]\n"
          ]
        }
      ]
    },
    {
      "cell_type": "code",
      "source": [
        "# join words using '-'\n",
        "l = ['jam', 'sam', 'ham', 'dam']\n",
        "s = '-'\n",
        "nl = s.join(l)\n",
        "nl"
      ],
      "metadata": {
        "id": "xFKna2UmH6Sx",
        "colab": {
          "base_uri": "https://localhost:8080/",
          "height": 36
        },
        "outputId": "943d2426-6a12-4567-d6f5-52db5ee46a26"
      },
      "execution_count": null,
      "outputs": [
        {
          "output_type": "execute_result",
          "data": {
            "text/plain": [
              "'jam-sam-ham-dam'"
            ],
            "application/vnd.google.colaboratory.intrinsic+json": {
              "type": "string"
            }
          },
          "metadata": {},
          "execution_count": 15
        }
      ]
    },
    {
      "cell_type": "code",
      "source": [
        "# print even numbers from a list\n",
        "#Input: list1 = [2, 7, 5, 64, 14]\n",
        "# Output: [2, 64, 14]\n",
        "l = [2, 7, 5, 64, 14]\n",
        "for i in l:\n",
        "  if i%2==0:\n",
        "    print(i,'\\n')"
      ],
      "metadata": {
        "id": "AKvqvmhTH6T1",
        "colab": {
          "base_uri": "https://localhost:8080/"
        },
        "outputId": "208c6dbc-93d3-43e5-ca97-8c3e63183223"
      },
      "execution_count": null,
      "outputs": [
        {
          "output_type": "stream",
          "name": "stdout",
          "text": [
            "2 \n",
            "\n",
            "64 \n",
            "\n",
            "14 \n",
            "\n"
          ]
        }
      ]
    },
    {
      "cell_type": "code",
      "source": [
        "l = [2, 7, 5, 64, 14]\n",
        "e = []\n",
        "o = []\n",
        "c = 0\n",
        "c1 = 0\n",
        "for i in l:\n",
        "  if i%2 ==0:\n",
        "    c = c+1\n",
        "  else:\n",
        "    c1 = c1+1\n",
        "print(\"even count\",c)    \n",
        "print(\"odd count\",c1)  "
      ],
      "metadata": {
        "id": "RvkEK3rQGYxx",
        "colab": {
          "base_uri": "https://localhost:8080/"
        },
        "outputId": "7d07b82a-e2fd-4264-dcd0-abb752e64a8a"
      },
      "execution_count": null,
      "outputs": [
        {
          "output_type": "stream",
          "name": "stdout",
          "text": [
            "even count 3\n",
            "odd count 2\n"
          ]
        }
      ]
    },
    {
      "cell_type": "code",
      "source": [
        "# count sum of positive numbers\n",
        "l  = [1,2,3,-1,5]\n",
        "c = 0\n",
        "sum = 0\n",
        "for i in l:\n",
        "  if i>0:\n",
        "    sum = sum+i\n",
        "    c = c+1\n",
        "print(\"count\",c) \n",
        "print(\"sum\",sum)   "
      ],
      "metadata": {
        "id": "L-w04gwwbi3b",
        "colab": {
          "base_uri": "https://localhost:8080/"
        },
        "outputId": "09d4d05e-0d52-4e0f-f918-b82ba9ff0584"
      },
      "execution_count": null,
      "outputs": [
        {
          "output_type": "stream",
          "name": "stdout",
          "text": [
            "count 4\n",
            "sum 11\n"
          ]
        }
      ]
    },
    {
      "cell_type": "code",
      "source": [
        "# print negative numbers\n",
        "l  = [1,2,3,-1,5,-6]\n",
        "n = [i for i in l if i<0]\n",
        "n"
      ],
      "metadata": {
        "id": "BCYPy8Isbi7v",
        "colab": {
          "base_uri": "https://localhost:8080/"
        },
        "outputId": "ea208829-9ddd-4f6d-9e7f-edf9239dab1f"
      },
      "execution_count": null,
      "outputs": [
        {
          "output_type": "execute_result",
          "data": {
            "text/plain": [
              "[-1, -6]"
            ]
          },
          "metadata": {},
          "execution_count": 1
        }
      ]
    },
    {
      "cell_type": "code",
      "source": [
        "# print even numbers\n",
        "nl = [i for i in range(1,20) if i%2 == 0]\n",
        "nl"
      ],
      "metadata": {
        "id": "a-yzXivCbi86",
        "colab": {
          "base_uri": "https://localhost:8080/"
        },
        "outputId": "afa969fd-6c67-4c24-8b6d-912e655ef80c"
      },
      "execution_count": null,
      "outputs": [
        {
          "output_type": "execute_result",
          "data": {
            "text/plain": [
              "[2, 4, 6, 8, 10, 12, 14, 16, 18]"
            ]
          },
          "metadata": {},
          "execution_count": 5
        }
      ]
    },
    {
      "cell_type": "code",
      "source": [
        "# swap\n",
        "a = 1\n",
        "b = 0\n",
        "a, b = b, a\n",
        "print(a, b)"
      ],
      "metadata": {
        "id": "7UNL9vxdlo-_",
        "colab": {
          "base_uri": "https://localhost:8080/"
        },
        "outputId": "fc317566-98c0-4d26-9416-0e9c58529038"
      },
      "execution_count": null,
      "outputs": [
        {
          "output_type": "stream",
          "name": "stdout",
          "text": [
            "0 1\n"
          ]
        }
      ]
    },
    {
      "cell_type": "code",
      "source": [
        "# cube\n",
        "pow2 = [2 ** x for x in range(10) if x>5]\n",
        "print(pow2)"
      ],
      "metadata": {
        "id": "dyw2O-e5lpGA",
        "colab": {
          "base_uri": "https://localhost:8080/"
        },
        "outputId": "7bda6e30-da4e-4dd5-e060-4c1889f22b28"
      },
      "execution_count": null,
      "outputs": [
        {
          "output_type": "stream",
          "name": "stdout",
          "text": [
            "[64, 128, 256, 512]\n"
          ]
        }
      ]
    },
    {
      "cell_type": "code",
      "source": [
        "# print numbers in list a not in b \n",
        "a = [1,2,3,4,5]\n",
        "b = [5,6,7,8,9]\n",
        "# desired output: [1,2,3,4]\n",
        "\n",
        "# gets each item found in `a` AND not in `b`\n",
        "print([i for i in a if i not in b])"
      ],
      "metadata": {
        "id": "os9Y6NVsqOhn",
        "colab": {
          "base_uri": "https://localhost:8080/"
        },
        "outputId": "cc416852-cb6c-4429-d0ef-9e4ca36c71cf"
      },
      "execution_count": null,
      "outputs": [
        {
          "output_type": "stream",
          "name": "stdout",
          "text": [
            "[1, 2, 3, 4]\n"
          ]
        }
      ]
    },
    {
      "cell_type": "code",
      "source": [
        "# copy list from one ist to other\n",
        "f = [\"apple\", \"banana\", \"cherry\", \"kiwi\", \"mango\"]\n",
        "nl = []\n",
        "for i in f:\n",
        "    nl.append(i)\n",
        "nl    "
      ],
      "metadata": {
        "id": "QXFEJqweqOjK",
        "colab": {
          "base_uri": "https://localhost:8080/"
        },
        "outputId": "5526c3d7-70b6-495f-9f64-45c8afc3eb7d"
      },
      "execution_count": null,
      "outputs": [
        {
          "output_type": "execute_result",
          "data": {
            "text/plain": [
              "['apple', 'banana', 'cherry', 'kiwi', 'mango']"
            ]
          },
          "metadata": {},
          "execution_count": 16
        }
      ]
    },
    {
      "cell_type": "code",
      "source": [
        "# Import statistics Library\n",
        "import statistics\n",
        "\n",
        "# Calculate average values\n",
        "print(statistics.mean([1, 3, 5, 7, 9, 11, 13]))\n",
        "print(statistics.mean([1, 3, 5, 7, 9, 11]))\n",
        "print(statistics.mean([-11, 5.5, -3.4, 7.1, -9, 22]))"
      ],
      "metadata": {
        "id": "4C7TQ5nKT1sX",
        "colab": {
          "base_uri": "https://localhost:8080/"
        },
        "outputId": "9aa6e973-4037-41e4-a41a-d82dbd6fcde9"
      },
      "execution_count": null,
      "outputs": [
        {
          "output_type": "stream",
          "name": "stdout",
          "text": [
            "7\n",
            "6\n",
            "1.8666666666666667\n"
          ]
        }
      ]
    },
    {
      "cell_type": "code",
      "source": [
        "# Import statistics Library\n",
        "import statistics\n",
        "\n",
        "# Calculate middle values\n",
        "print(statistics.median([1, 3, 5, 7, 9, 11, 13]))\n",
        "print(statistics.median([1, 3, 5, 7, 9, 11]))\n",
        "print(statistics.median([-11, 5.5, -3.4, 7.1, -9, 22]))"
      ],
      "metadata": {
        "id": "cshfN-dHT1vv",
        "colab": {
          "base_uri": "https://localhost:8080/"
        },
        "outputId": "6365c68f-bbe4-4301-a4c0-7c3243232625"
      },
      "execution_count": null,
      "outputs": [
        {
          "output_type": "stream",
          "name": "stdout",
          "text": [
            "7\n",
            "6.0\n",
            "1.05\n"
          ]
        }
      ]
    },
    {
      "cell_type": "code",
      "source": [
        "# exclude empty list and print \n",
        "t = [5, 6, [9], 3, [], [], 9]\n",
        "n = [i for i in t if i!=[]]\n",
        "n"
      ],
      "metadata": {
        "id": "JulaKhsjQaAD",
        "colab": {
          "base_uri": "https://localhost:8080/"
        },
        "outputId": "43f6a0f3-32fb-4b14-a927-9220cb9aee2a"
      },
      "execution_count": null,
      "outputs": [
        {
          "output_type": "execute_result",
          "data": {
            "text/plain": [
              "[5, 6, [9], 3, 9]"
            ]
          },
          "metadata": {},
          "execution_count": 20
        }
      ]
    },
    {
      "cell_type": "code",
      "source": [
        "# print common sublists\n",
        "test_list1 = [ [1, 2], [3, 4], [5, 6] ]\n",
        "test_list2 = [ [3, 4], [5, 7], [1, 2] ]\n",
        "nl = []\n",
        "for i in test_list1:\n",
        "  if i not in test_list2:\n",
        "    nl.append(i)\n",
        "for i in test_list2:\n",
        "  if i not in test_list1:\n",
        "    nl.append(i)    \n",
        "nl\n"
      ],
      "metadata": {
        "id": "iJXAAwgm8Hzp",
        "colab": {
          "base_uri": "https://localhost:8080/"
        },
        "outputId": "e79f1500-a51c-4000-980f-698277164f4b"
      },
      "execution_count": null,
      "outputs": [
        {
          "output_type": "execute_result",
          "data": {
            "text/plain": [
              "[[5, 6], [5, 7]]"
            ]
          },
          "metadata": {},
          "execution_count": 21
        }
      ]
    },
    {
      "cell_type": "code",
      "source": [
        "# print reverse of numbers from each list\n",
        "t= [[4, 1, 6], [7, 8], [4, 10, 8]]\n",
        "for i in t:\n",
        "  i.sort(reverse=True)\n",
        "  print(i) "
      ],
      "metadata": {
        "id": "1yPFTm8V8H06",
        "colab": {
          "base_uri": "https://localhost:8080/"
        },
        "outputId": "98dc737f-067b-47a4-8494-3fc36b2c6b06"
      },
      "execution_count": null,
      "outputs": [
        {
          "output_type": "stream",
          "name": "stdout",
          "text": [
            "[6, 4, 1]\n",
            "[8, 7]\n",
            "[10, 8, 4]\n"
          ]
        }
      ]
    },
    {
      "cell_type": "code",
      "source": [
        "# print revers of list\n",
        "t = [1,2,3]\n",
        "sorted(t,reverse=True)"
      ],
      "metadata": {
        "id": "8kQFg3XBASgX",
        "colab": {
          "base_uri": "https://localhost:8080/"
        },
        "outputId": "1b728439-4221-4d4b-f64a-3fb2b1419010"
      },
      "execution_count": null,
      "outputs": [
        {
          "output_type": "execute_result",
          "data": {
            "text/plain": [
              "[3, 2, 1]"
            ]
          },
          "metadata": {},
          "execution_count": 23
        }
      ]
    },
    {
      "cell_type": "code",
      "source": [
        "# count unique values\n",
        "l = [1,1,2,3,3,4,4,5,6,7,7]\n",
        "l1 = []\n",
        "cnt = 0\n",
        "for i in l:\n",
        "  if i not in l1:\n",
        "    cnt = cnt+1\n",
        "    l1.append(i)\n",
        "print(cnt)    "
      ],
      "metadata": {
        "id": "zTEnBmYbASki",
        "colab": {
          "base_uri": "https://localhost:8080/"
        },
        "outputId": "8cfdbe50-2ca1-447b-eb47-349dd536b3e6"
      },
      "execution_count": null,
      "outputs": [
        {
          "output_type": "stream",
          "name": "stdout",
          "text": [
            "7\n"
          ]
        }
      ]
    },
    {
      "cell_type": "code",
      "source": [
        "# count unique values using set\n",
        "il = [1,2,3,1,2]\n",
        "i2 = set(il)\n",
        "len(i2)"
      ],
      "metadata": {
        "id": "dM9ZNGL28H5Z",
        "colab": {
          "base_uri": "https://localhost:8080/"
        },
        "outputId": "c95698b2-e767-44bc-d6a6-45741cd232d8"
      },
      "execution_count": null,
      "outputs": [
        {
          "output_type": "execute_result",
          "data": {
            "text/plain": [
              "3"
            ]
          },
          "metadata": {},
          "execution_count": 30
        }
      ]
    },
    {
      "cell_type": "code",
      "source": [
        "# List product excluding duplicates\n",
        "l = [1,2,3,4,4]\n",
        "nd = []\n",
        "for i in l:\n",
        "  if i not in nd:\n",
        "    nd.append(i)\n",
        "print(nd)  \n",
        "\n",
        "def mul(l):\n",
        "  m = 1\n",
        "  for i in l:\n",
        "    m = m*i\n",
        "  print(m)\n",
        "ml = mul(nd)  "
      ],
      "metadata": {
        "id": "9SCNWTVNHrSP",
        "colab": {
          "base_uri": "https://localhost:8080/"
        },
        "outputId": "ddb7f74e-0c4d-4968-bf57-566815db96b9"
      },
      "execution_count": null,
      "outputs": [
        {
          "output_type": "stream",
          "name": "stdout",
          "text": [
            "[1, 2, 3, 4]\n",
            "24\n"
          ]
        }
      ]
    },
    {
      "cell_type": "code",
      "source": [
        "# switch elemetnt first to last and last to first\n",
        "l = [1,2,3,4]\n",
        "p,*q,r = l\n",
        "print(r,*q,p)"
      ],
      "metadata": {
        "id": "AF8To8_o8H9e",
        "colab": {
          "base_uri": "https://localhost:8080/"
        },
        "outputId": "8998f374-f231-4a4e-d94c-a05b49c803ef"
      },
      "execution_count": null,
      "outputs": [
        {
          "output_type": "stream",
          "name": "stdout",
          "text": [
            "4 2 3 1\n"
          ]
        }
      ]
    },
    {
      "cell_type": "code",
      "source": [
        "# # switch elemetnt first to last and last to first\n",
        "l = [1,2,3,4]\n",
        "get = l[-1],l[0]\n",
        "l[0],l[-1] = get\n",
        "l"
      ],
      "metadata": {
        "id": "iZonshSDQaBK"
      },
      "execution_count": null,
      "outputs": []
    },
    {
      "cell_type": "code",
      "source": [
        "# # switch elemetnt first to last and last to first\n",
        "l = [1,2,3,4]\n",
        "l[0],l[-1] = l[-1],l[0]\n",
        "l"
      ],
      "metadata": {
        "id": "vOGQ6KLk1xJy"
      },
      "execution_count": null,
      "outputs": []
    },
    {
      "cell_type": "code",
      "source": [
        "# rev of list\n",
        "def sw(l):\n",
        "  for i in l:\n",
        "    temp = l[0]\n",
        "    l[0] = l[-1]\n",
        "    l[-1] = temp\n",
        "    return l\n",
        "sw([1,2,3,4,5])   "
      ],
      "metadata": {
        "id": "sQIKk_9yNwhJ",
        "colab": {
          "base_uri": "https://localhost:8080/"
        },
        "outputId": "ca4864c3-4e23-47d3-d565-5d09fef6a6e3"
      },
      "execution_count": null,
      "outputs": [
        {
          "output_type": "execute_result",
          "data": {
            "text/plain": [
              "[5, 2, 3, 4, 1]"
            ]
          },
          "metadata": {},
          "execution_count": 33
        }
      ]
    },
    {
      "cell_type": "code",
      "source": [
        "# print number of elements\n",
        "l= [1,2,3,4,5,10]\n",
        "c = 0\n",
        "for i in l:\n",
        "  c = c+1 \n",
        "c    "
      ],
      "metadata": {
        "id": "99zFszyi3DSl",
        "colab": {
          "base_uri": "https://localhost:8080/"
        },
        "outputId": "d360c3a5-da36-41ca-939a-f335ab003d8c"
      },
      "execution_count": null,
      "outputs": [
        {
          "output_type": "execute_result",
          "data": {
            "text/plain": [
              "6"
            ]
          },
          "metadata": {},
          "execution_count": 35
        }
      ]
    },
    {
      "cell_type": "code",
      "source": [
        "# print biggest number\n",
        "def m(a,b):\n",
        "  if a>b:\n",
        "    print(a)\n",
        "  else:\n",
        "    print(b)\n",
        "m(2,3)      "
      ],
      "metadata": {
        "id": "xUpe4MH132ap",
        "colab": {
          "base_uri": "https://localhost:8080/"
        },
        "outputId": "45f7122b-e46c-43a7-9209-82100ae34f7d"
      },
      "execution_count": null,
      "outputs": [
        {
          "output_type": "stream",
          "name": "stdout",
          "text": [
            "3\n"
          ]
        }
      ]
    },
    {
      "cell_type": "code",
      "source": [
        "# number available in list or not\n",
        "l= [1,2,3,4,5]\n",
        "\n",
        "if(4 in l): \n",
        "      print(\"yes\")"
      ],
      "metadata": {
        "id": "KhVJ56ey32cA"
      },
      "execution_count": null,
      "outputs": []
    },
    {
      "cell_type": "code",
      "source": [
        "# print reverse of list\n",
        "lst = [10, 11, 12, 13, 14, 15]\n",
        "l = []\n",
        "for i in lst:\n",
        "  l.insert(0,i)\n",
        "print(l)\n"
      ],
      "metadata": {
        "id": "N-T28pgk3Di2",
        "colab": {
          "base_uri": "https://localhost:8080/"
        },
        "outputId": "0cd2335e-37ed-4cd7-9c43-78bf27dc988f"
      },
      "execution_count": null,
      "outputs": [
        {
          "output_type": "stream",
          "name": "stdout",
          "text": [
            "[15, 14, 13, 12, 11, 10]\n"
          ]
        }
      ]
    },
    {
      "cell_type": "code",
      "source": [
        "# sum of list elements using user defined functions\n",
        "def list_sum(num_list):\n",
        "    the_sum = 0\n",
        "    for i in num_list:\n",
        "        the_sum = the_sum + i\n",
        "    return the_sum\n",
        "\n",
        "print(list_sum([1, 3, 5, 7, 9]))"
      ],
      "metadata": {
        "id": "c-lY3vF59ft8",
        "colab": {
          "base_uri": "https://localhost:8080/"
        },
        "outputId": "fcd1ff87-3610-48fd-b22c-dffd7c7867f4"
      },
      "execution_count": null,
      "outputs": [
        {
          "output_type": "stream",
          "name": "stdout",
          "text": [
            "25\n"
          ]
        }
      ]
    },
    {
      "cell_type": "code",
      "source": [
        "# how many times a number occured\n",
        "def how(l,x):\n",
        "  c = 0\n",
        "  for i in l:\n",
        "    if(i == x):\n",
        "      c = c+1\n",
        "  return c\n",
        "how([1,1,2,2,3,3],2)    \n"
      ],
      "metadata": {
        "id": "go_MFvuu-Uq9",
        "colab": {
          "base_uri": "https://localhost:8080/"
        },
        "outputId": "36d1b9ab-e60c-433f-db8d-834e75da7f77"
      },
      "execution_count": null,
      "outputs": [
        {
          "output_type": "execute_result",
          "data": {
            "text/plain": [
              "2"
            ]
          },
          "metadata": {},
          "execution_count": 43
        }
      ]
    },
    {
      "cell_type": "code",
      "source": [
        "# avg of list\n",
        "L = [4, 5, 1, 2, 9, 7, 10, 8]\n",
        "c = 0\n",
        "for i in L:\n",
        "  c = c+i\n",
        "avg = c/len(l)\n",
        "avg  "
      ],
      "metadata": {
        "id": "MLJVFxNf-UvK",
        "colab": {
          "base_uri": "https://localhost:8080/"
        },
        "outputId": "1a175efa-5f0b-4f7c-928d-75d99846369b"
      },
      "execution_count": null,
      "outputs": [
        {
          "output_type": "execute_result",
          "data": {
            "text/plain": [
              "15.333333333333334"
            ]
          },
          "metadata": {},
          "execution_count": 42
        }
      ]
    },
    {
      "cell_type": "code",
      "source": [
        "# # samll no in a list\n",
        "list1 = [10, 20, 4, 45, 99]\n",
        "list1.sort()\n",
        "list1[0]"
      ],
      "metadata": {
        "id": "TJgd2oLh-UwO",
        "colab": {
          "base_uri": "https://localhost:8080/"
        },
        "outputId": "4fae2ab9-b305-4f07-a19d-d0c30e628016"
      },
      "execution_count": null,
      "outputs": [
        {
          "output_type": "execute_result",
          "data": {
            "text/plain": [
              "4"
            ]
          },
          "metadata": {},
          "execution_count": 41
        }
      ]
    },
    {
      "cell_type": "code",
      "source": [
        "# samll no in a list\n",
        "from functools import reduce\n",
        "l = [10,20,30]\n",
        "print(reduce(min,l))"
      ],
      "metadata": {
        "id": "VbG_6Ljk-U1z",
        "colab": {
          "base_uri": "https://localhost:8080/"
        },
        "outputId": "fda5b607-9734-446c-a694-7a6db091c937"
      },
      "execution_count": null,
      "outputs": [
        {
          "output_type": "stream",
          "name": "stdout",
          "text": [
            "10\n"
          ]
        }
      ]
    }
  ]
}